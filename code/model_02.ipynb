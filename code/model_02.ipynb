{
 "cells": [
  {
   "cell_type": "markdown",
   "metadata": {},
   "source": [
    "#  **Model_Trials_02**  \n",
    "(Classification Algorithms)\n",
    "___\n",
    "\n",
    "## Random Forest Classifer and Gradient Boosting Classifier"
   ]
  },
  {
   "cell_type": "code",
   "execution_count": 1,
   "metadata": {},
   "outputs": [],
   "source": [
    "import pandas as pd\n",
    "import numpy as np\n",
    "import matplotlib.pyplot as plt\n",
    "import seaborn as sns\n",
    "from sklearn.model_selection import train_test_split, RandomizedSearchCV\n",
    "from sklearn.ensemble import RandomForestClassifier, GradientBoostingClassifier\n",
    "from sklearn.metrics import accuracy_score, classification_report, confusion_matrix, f1_score\n",
    "from sklearn.preprocessing import StandardScaler\n",
    "from scipy.stats import uniform, randint"
   ]
  },
  {
   "cell_type": "code",
   "execution_count": 2,
   "metadata": {},
   "outputs": [],
   "source": [
    "#Load encoded set\n",
    "enc_set = (\"/Users/sa14/Desktop/fin eda final/data/Encoded_Set.csv\")\n",
    "df_model = pd.read_csv(enc_set)\n",
    "\n",
    "#Sample 30% of bank data for initial training & hyperparameter tuning\n",
    "sample_df = df_model.sample(frac=0.3, random_state=42) "
   ]
  },
  {
   "cell_type": "code",
   "execution_count": 3,
   "metadata": {},
   "outputs": [],
   "source": [
    "# Create a list of Features to be stored in \"X\"\n",
    "\n",
    "# The Features list will not include \"IsFraud\" as that will be the target feature\n",
    "X = df_model.drop(columns=[\"isFraud\"])  \n",
    "\n",
    "# Target: \"isFraud\" column\n",
    "y = df_model[\"isFraud\"] \n",
    "\n",
    "# train-test-split\n",
    "X_train, X_test, y_train, y_test = train_test_split(X,y,test_size=0.2, \n",
    "                                                    random_state=42, stratify=y)\n",
    "\n",
    "# Set up Scaler then scale existing data\n",
    "scaler = StandardScaler()\n",
    "X_train = scaler.fit_transform(X_train)\n",
    "X_test = scaler.transform(X_test)"
   ]
  },
  {
   "cell_type": "code",
   "execution_count": null,
   "metadata": {},
   "outputs": [],
   "source": [
    "#Import SMOTE for this code block\n",
    "from imblearn.over_sampling import SMOTE\n",
    "\n",
    "# Apply SMOTE to balance classes\n",
    "smote = SMOTE(random_state=42)\n",
    "X_train_res, y_train_res = smote.fit_resample(X_train, y_train)"
   ]
  },
  {
   "cell_type": "code",
   "execution_count": 5,
   "metadata": {},
   "outputs": [
    {
     "data": {
      "text/plain": [
       "((5090096, 10), (1272524, 10))"
      ]
     },
     "execution_count": 5,
     "metadata": {},
     "output_type": "execute_result"
    }
   ],
   "source": [
    "#Get count of rows & columns for X_test and X_train\n",
    "X_train.shape, X_test.shape"
   ]
  },
  {
   "cell_type": "code",
   "execution_count": 7,
   "metadata": {},
   "outputs": [],
   "source": [
    "# Define function to train, evaluate, and print results and visualization\n",
    "\n",
    "def train_evaluate_model(model, model_name):\n",
    "    model.fit(X_train, y_train)\n",
    "    y_pred = model.predict(X_test)\n",
    "    acc = accuracy_score(y_test, y_pred)\n",
    "    f1 = f1_score(y_test, y_pred)\n",
    "    \n",
    "    print(f\"\\n{model_name} Performance:\")\n",
    "    print(f\"Accuracy: {acc:.4f}\")\n",
    "    print(f\"F1 Score: {f1:.4f}\")\n",
    "    print(classification_report(y_test, y_pred))\n",
    "    \n",
    "    # Confusion Matrix\n",
    "    plt.figure(figsize=(6, 4))\n",
    "    sns.heatmap(confusion_matrix(y_test, y_pred), annot=True, fmt='d', cmap='Greens', \n",
    "                xticklabels=['Not Fraud', 'Fraud'], yticklabels=['Not Fraud', 'Fraud'])\n",
    "    plt.xlabel('Predicted')\n",
    "    plt.ylabel('Actual')\n",
    "    plt.title(f'Confusion Matrix - {model_name}')\n",
    "    plt.show()\n",
    "\n",
    "    return acc, f1"
   ]
  },
  {
   "cell_type": "code",
   "execution_count": 8,
   "metadata": {},
   "outputs": [
    {
     "name": "stdout",
     "output_type": "stream",
     "text": [
      "\n",
      "Bank Fraud Training Models with Default Parameters: \n",
      "\n",
      "\n",
      "Random Forest Performance:\n",
      "Accuracy: 0.9997\n",
      "F1 Score: 0.8716\n",
      "              precision    recall  f1-score   support\n",
      "\n",
      "           0       1.00      1.00      1.00   1270881\n",
      "           1       0.97      0.79      0.87      1643\n",
      "\n",
      "    accuracy                           1.00   1272524\n",
      "   macro avg       0.99      0.89      0.94   1272524\n",
      "weighted avg       1.00      1.00      1.00   1272524\n",
      "\n"
     ]
    },
    {
     "data": {
      "image/png": "[encoded data removed]",
      "text/plain": [
       "<Figure size 600x400 with 2 Axes>"
      ]
     },
     "metadata": {},
     "output_type": "display_data"
    }
   ],
   "source": [
    "# Create empty dictionary to store model results\n",
    "model_results = {}\n",
    "\n",
    "# Train models with default parameters to find the best one\n",
    "models = {\n",
    "    \"Random Forest\": RandomForestClassifier(random_state=42),\n",
    "    \"Gradient Boosting\": GradientBoostingClassifier(random_state=42)\n",
    "}\n",
    "\n",
    "print(\"\\nBank Fraud Training Models with Default Parameters: \\n\")\n",
    "for name, model in models.items():\n",
    "    acc, f1 = train_evaluate_model(model, name)\n",
    "    model_results[name] = {'Accuracy': acc, 'F1 Score': f1}\n",
    "\n",
    "    # Determine best model based on F1 Score\n",
    "best_model_name = max(model_results, key=lambda k: model_results[k]['F1 Score'])\n",
    "print(f\"\\nBest performing model: {best_model_name}\")\n",
    "\n",
    "# Define hyperparameter tuning for best model\n",
    "param_grids = {\n",
    "    \"Random Forest\": {'n_estimators': randint(50, 200), 'max_depth': randint(3, 20), \n",
    "                      'min_samples_split': randint(2, 10), 'min_samples_leaf': randint(1, 10), 'bootstrap': [True, False]},\n",
    "    \"Gradient Boosting\": {'n_estimators': randint(50, 200), 'learning_rate': uniform(0.01, 0.2),\n",
    "                          'max_depth': randint(3, 20), 'min_samples_split': randint(2, 10), 'min_samples_leaf': randint(1, 10)}\n",
    "}"
   ]
  },
  {
   "cell_type": "markdown",
   "metadata": {},
   "source": [
    "___\n",
    ">> ### **Insight**\n",
    "\n",
    "___"
   ]
  }
 ],
 "metadata": {
  "kernelspec": {
   "display_name": "Python 3",
   "language": "python",
   "name": "python3"
  },
  "language_info": {
   "codemirror_mode": {
    "name": "ipython",
    "version": 3
   },
   "file_extension": ".py",
   "mimetype": "text/x-python",
   "name": "python",
   "nbconvert_exporter": "python",
   "pygments_lexer": "ipython3",
   "version": "3.12.4"
  }
 },
 "nbformat": 4,
 "nbformat_minor": 2
}
